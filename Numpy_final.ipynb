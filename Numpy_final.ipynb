{
 "cells": [
  {
   "cell_type": "markdown",
   "id": "1b330b82",
   "metadata": {},
   "source": [
    "# <p style=\"text-align: center;\">Numpy</p>\n",
    "### <p style=\"text-align: center;\">Notes by Hunter LaValley</p>"
   ]
  },
  {
   "cell_type": "markdown",
   "id": "36919d94",
   "metadata": {},
   "source": [
    "> What is this?\n",
    "\n",
    "This notebook contains the ```Python``` , Markdown, and $L$a$T$e$X$ in as much as I have learned over the years for computational and mathematical physics. I decided to compile this together so I have both a reference for myself and anyone who wants to gauge my skill level at a glance.\n",
    ">How does this work?\n",
    "\n",
    "These are speedrun templates I made for the purpose of learning as fast as possible, my website Physicsinsight.com$^{†}$ will be a series of \"all-in-one\" resources for math and physics because textbooks do not provide such resources that you can run through from start to finish. Once I learned that [this is how rats learn to complete mazes](https://www.jneurosci.org/content/39/5/866) (in their sleep, no less, by \"replaying the day\") it became obvious that there is literally no better way to learn through compiling your rehearsals and running through them from start to finish every single day. I combined this what I knew about speedsolving Rubik's cubes and decided it would be best to speed solve everything that I want to keep sharp. \n",
    "\n",
    ">How do you study?\n",
    "\n",
    "I literally listen to tutorials all day, many times over and over, and come home and do the problems and exercises. Eventually I compile everything into a document like this so that I can quickly rehearse what I did over the weeks or months; that's the speedsolve. These documents are essentially my RAM for things I find uniquely useful and valuable. Once I can maneuver through each of the topics without looking I move onto the next subject. My professor for ancient Greek described this as having multiple entry points to the material. There is a noticeable redundancy in such a method once you master material because you have exhausted all the useful combinations of interesting relationships that exist in what you're learning. I figure if it works for math, physics, computer science, language, cubing, and guitar, it may as well work for anything I can reasonably wish to learn. \n",
    "\n",
    "> What are you studying?/What is your focus in doing this?\n",
    "\n",
    "I am studying the Python libraries Numpy, Pandas, Matplotlib, Plotly, Seaborn, and StatsModels as well as data structures and algorithms in general; then other languages like R and C++. I did not take these in college but I learned enough python, probability and statistics in quantum mechanics I & II, statistical physics and 5 years of laboratory work that I figured I should nail down these skills in as practical a fashion as possible. I changed my major at one point from physics to mathematical physics, and now I'm focussed on computational physics. \n",
    "\n",
    "† The domain is only listed for sale in case a college or institution wants to pay me a high premium before I finish setting it up with Django and SQL because I want it to have user functions instead of reading like Wikipedia or the [DLMF](https://dlmf.nist.gov/). \n"
   ]
  },
  {
   "cell_type": "code",
   "execution_count": 3,
   "id": "ce12a8ae",
   "metadata": {},
   "outputs": [],
   "source": [
    "import numpy as np\n",
    "import matplotlib.pylab as plt\n",
    "from numpy import random\n",
    "import numpy_financial as npf\n",
    "import pandas as pd\n",
    "from numpy import genfromtxt"
   ]
  },
  {
   "cell_type": "markdown",
   "id": "f4e50b74",
   "metadata": {},
   "source": [
    "<!-- Tables -->\n",
    "| Data types | Python|\n",
    "| -------- | --------------  |\n",
    "|  Boolean | np.bool_ |                     \n",
    "| Char | np.byte |  \n",
    "| Double | np.double & np.float64 |   \n",
    "| Float | np.single & np.float32|\n",
    "|   Integer | np.short |  \n",
    "|Long | np.int_ |  \n",
    "|  Short | np.short| \n",
    "| np.int8 | -128 to 127 |   \n",
    "| np.int16 | -32768 to 32767 |   \n",
    "| np.int32 | -2147483648 to 2147483647 |   \n",
    "| np.int64 | -9223372036854775808 to 9223372036854775807 |   "
   ]
  },
  {
   "cell_type": "code",
   "execution_count": 108,
   "id": "ef2e4887",
   "metadata": {},
   "outputs": [
    {
     "name": "stdout",
     "output_type": "stream",
     "text": [
      "Ordinary list:  [1, 2, 3, 4, 5]\n",
      "Multidimensional list:  [[1, 2, 3], [4, 5, 6], [7, 8, 9]]\n",
      "Array made from list:  [[1 2 3]\n",
      " [4 5 6]\n",
      " [7 8 9]]\n",
      "1-D array:  [1 2 3]\n",
      "Multidimensional array:  [[1 2 3]\n",
      " [4 5 6]\n",
      " [7 8 9]]\n",
      "Array made from arange():  [1 3 5 7 9]\n",
      "Array made from linspace():  [ 1. 10.]\n",
      "Array of zeros made from zeros():  [0. 0. 0. 0.]\n",
      "2x3 array made from zeros():  [[0. 0. 0.]\n",
      " [0. 0. 0.]]\n",
      "2x3 array made from ones():  [[1. 1. 1.]\n",
      " [1. 1. 1.]]\n",
      "Size of l5:  9\n",
      "l5 is array type:  int32\n",
      "1-D array of 10 random values:  [89 86 14 34 20  9 53 19  1  9]\n",
      "2x3 array of random values:  [[79 17 32]\n",
      " [ 1 45 80]]\n"
     ]
    }
   ],
   "source": [
    "l1 = [1, 2, 3, 4, 5] #ordinary list\n",
    "l2 = [[1,2,3], [4,5,6], [7,8,9]] #multidimensional list \n",
    "l3 = np.array(l2) #Using numpy to take a list and define an array\n",
    "l4 = np.array([1, 2, 3]) #Creating 1-D array with defined values\n",
    "l5 = np.array([[1,2,3], [4,5,6], [7,8,9]]) #Creating a multidimensional array with defined values\n",
    "np.arange(1, 10,2) #arange makes an array of the form: (start, stop, step) where stop is not included.\n",
    "np.linspace(1,10,2) #linspace makes an array of the form: (start, stop, # of values)\n",
    "np.zeros(4) #1-D array of 4 zero's \n",
    "np.zeros((2, 3)) #2x3 array of zero's, follows RC-Cola \n",
    "np.ones((2, 3)) #2x3 array of one's\n",
    "l5.size #number of items in the array\n",
    "l5.dtype #returns type of array:\n",
    "randomarray1D = np.random.randint(0, 100, 10) # 1-D array with 10 random values from 0 to 100\n",
    "random2x3array = np.random.randint(0, 100, size=(2, 3)) # 2x3 matrix with 6 random values from 0 to 100\n",
    "# np.random.randint? #Get help with a function by placing a ? at the end of its name\n",
    "\n",
    "print(\"Ordinary list: \", l1)\n",
    "print(\"Multidimensional list: \", l2) \n",
    "print(\"Array made from list: \", l3) \n",
    "print(\"1-D array: \", l4) \n",
    "print(\"Multidimensional array: \", l5) \n",
    "print(\"Array made from arange(): \", np.arange(1, 10,2)) \n",
    "print(\"Array made from linspace(): \", np.linspace(1,10,2))\n",
    "print(\"Array of zeros made from zeros(): \", np.zeros(4)) \n",
    "print(\"2x3 array made from zeros(): \", np.zeros((2, 3))) \n",
    "print(\"2x3 array made from ones(): \", np.ones((2, 3)))\n",
    "print(\"Size of l5: \", l5.size) \n",
    "print(\"l5 is array type: \", l5.dtype) \n",
    "print(\"1-D array of 10 random values: \", randomarray1D)\n",
    "print(\"2x3 array of random values: \", random2x3array )\n"
   ]
  },
  {
   "cell_type": "markdown",
   "id": "76afc75e",
   "metadata": {},
   "source": [
    " # <p style=\"text-align: center;\"> Slicing and Replacing  </p>"
   ]
  },
  {
   "cell_type": "code",
   "execution_count": 127,
   "id": "1ee08140",
   "metadata": {},
   "outputs": [
    {
     "name": "stdout",
     "output_type": "stream",
     "text": [
      "Result from changing the value of l[0] to 999:  [999, 2, 3, 4, 5]\n",
      "l2 after item setting:  [[  1   2   3]\n",
      " [  4 777   6]\n",
      " [  7   8 969]]\n",
      "Shape of l2:  (3, 3)\n",
      "Value at index l2[0,1]:  2\n",
      "Value at index l2.item(0,1):  2\n",
      "Values at specific indicies 0, 3, 6:  [1 4 7]\n",
      "l2 after changing specific indicies simlutaneously: [[ 10   2   3]\n",
      " [ 10 777   6]\n",
      " [ 10   8 969]]\n",
      "Starting at 0, stoping at 9, stepping in 2's:  [[ 10   2   3]\n",
      " [ 10   8 969]]\n",
      "Returning the first value (index of 1) in each row:  [10 10 10]\n",
      "Returning the second value (index of 1) in each row:  [  2 777   8]\n",
      "Returning the third value (index of 1) in each row:  [  3   6 969]\n",
      "Flipping the array by reversing the indices:  [[ 10   8 969]\n",
      " [ 10 777   6]\n",
      " [ 10   2   3]]\n",
      "Evens:  [2 4 6 8]\n",
      "All values greater than 5 in l2:  [ 10  10 777   6  10   8 969]\n",
      "All values in l2 such that 5 < x < 9:  [6 8]\n",
      "All values in l2 that are either greater than 5 or equal to 10:  [ 10  10 777   6  10   8 969]\n",
      "Unique values in l2:  [  2   3   6   8  10 777 969]\n",
      "original l5:  [[12 21  3]\n",
      " [43 52  6]\n",
      " [17 18 91]]\n",
      "l5 reshaped:  [[12]\n",
      " [21]\n",
      " [ 3]\n",
      " [43]\n",
      " [52]\n",
      " [ 6]\n",
      " [17]\n",
      " [18]\n",
      " [91]]\n",
      "Original a:  [[0 1]\n",
      " [2 3]]\n",
      "Resized a:  [[0 1 2]\n",
      " [3 0 1]]\n",
      "The transpose:  [[12 43 17]\n",
      " [21 52 18]\n",
      " [ 3  6 91]]\n",
      "Swapping axes = transposing:  [[12 43 17]\n",
      " [21 52 18]\n",
      " [ 3  6 91]]\n",
      "Flattening to 1-D:  [12 21  3 43 52  6 17 18 91]\n",
      "Flattening in column order:  [12 43 17 21 52 18  3  6 91]\n",
      "Arranged row values in ascending order:  [[ 3 12 21]\n",
      " [ 6 43 52]\n",
      " [17 18 91]]\n",
      "Arranged column values in ascending order:  [[ 3 12 21]\n",
      " [ 6 18 52]\n",
      " [17 43 91]]\n"
     ]
    }
   ],
   "source": [
    "#Recall from before\n",
    "l1 = [1, 2, 3, 4, 5]\n",
    "l2 = np.array([[1,2,3], [4,5,6], [7,8,9]])\n",
    "\n",
    "'''Replacing Indices'''\n",
    "l1[0] = 999 #changing a value at the index 0 in 1-D\n",
    "l2.itemset(4,777) #changing the 4th value in l5 to 777\n",
    "l2.itemset((2,2), 969) #changing the value at (2,2) to 999\n",
    "l2.shape #shape of array\n",
    "l2[0,1] #value at an index\n",
    "l2.item(0,1) #value at an index\n",
    "l3 = np.take(l2, [0, 3, 6]) #values at specific indices 3, 6, and 9\n",
    "print(\"Result from changing the value of l[0] to 999: \", l1)\n",
    "print(\"l2 after item setting: \", l2)\n",
    "print(\"Shape of l2: \", l2.shape)\n",
    "print(\"Value at index l2[0,1]: \", l2[0,1])\n",
    "print(\"Value at index l2.item(0,1): \", l2.item(0,1)) #value at an index\n",
    "print(\"Values at specific indicies 0, 3, 6: \", l3) #values at specific indices 3, 6, and 9\n",
    "\n",
    "np.put(l2, [0, 3, 6], [10, 10, 10]) #changing values at indices 3, 6 and 9 to 10 using polymorphism\n",
    "print(\"l2 after changing specific indicies simlutaneously:\", l2) \n",
    "\n",
    "'''Slicing'''\n",
    "# Start at 1st through 5th with 2 step\n",
    "l2[:9:2] #start at 0, stop at 9, step in 2's\n",
    "l2[:,0] #Return the first value (index of 1) in each row\n",
    "l2[:,1] #Return the second value (index of 1) in each row\n",
    "l2[:,2] #Return the third value (index of 1) in each row\n",
    "l2[::-1]# Flip the array by reversing the indices \n",
    "print(\"Starting at 0, stoping at 9, stepping in 2's: \", l2[:9:2])\n",
    "print(\"Returning the first value (index of 1) in each row: \", l2[:,0])\n",
    "print(\"Returning the second value (index of 1) in each row: \", l2[:,1])\n",
    "print(\"Returning the third value (index of 1) in each row: \", l2[:,2])\n",
    "print(\"Flipping the array by reversing the indices: \", l2[::-1])\n",
    "\n",
    "'''Get the evens by defining a matrix such that it has all the values\n",
    "of l5 if and only if their modulus with 2 is 0'''\n",
    "evens = l5[l5%2==0] \n",
    "print(\"Evens: \", evens)\n",
    "\n",
    "l2[l2 > 5] #Returns all values from l5 greater than 5, can use all comparison operators \n",
    "l2[(l2 > 5) & (l2 < 9)] #Returns all values in l5 such that 5 < x < 9\n",
    "l2[(l2 > 5) | (l2 == 10)] #Returns all values that are either greater than 5 or equal to 10\n",
    "\n",
    "print(\"All values greater than 5 in l2: \", l2[l2 > 5] )\n",
    "print(\"All values in l2 such that 5 < x < 9: \", l2[(l2 > 5) & (l2 < 9)] )\n",
    "print(\"All values in l2 that are either greater than 5 or equal to 10: \", l2[(l2 > 5) | (l2 == 10)] )\n",
    "print(\"Unique values in l2: \", np.unique(l2)) \n",
    "\n",
    "'''Reshaping'''\n",
    "l5 = np.array([[12,21,3], [43,52,6], [17,18,91]])\n",
    "print(\"original l5: \", l5)\n",
    "l5.reshape((9,1))# Reshape array l5 from 3x3 to 1x9\n",
    "print(\"l5 reshaped: \", l5.reshape((9,1)))\n",
    "\n",
    "''' If you reshape to drastically, then either items are lost or zeros are added to fill the size''' \n",
    "a = np.array([[0,1],[2,3]])\n",
    "print(\"Original a: \", a)\n",
    "print(\"Resized a: \", np.resize(a,(2,3)))\n",
    "\n",
    "\n",
    "l5.transpose() #Transposes l5 in the fashion of linear algebra\n",
    "l5.swapaxes(0,1) #Swaps the axes like a transposition\n",
    "l5.flatten() # Collapses a multidimensional array into a 1-D array\n",
    "l5.flatten('F') # Flattens but in column order\n",
    "\n",
    "\n",
    "print(\"The transpose: \", l5.transpose())\n",
    "print(\"Swapping axes = transposing: \", l5.swapaxes(0,1))\n",
    "print(\"Flattening to 1-D: \", l5.flatten())\n",
    "print(\"Flattening in column order: \", l5.flatten('F'))\n",
    "\n",
    "'''These work within the conext of either a row or a column, so if your array is too simple\n",
    "then you won't see what it does''' \n",
    "\n",
    "l5.sort(axis=1) #arranges row values to be in ascending order\n",
    "print(\"Arranged row values in ascending order: \", l5)\n",
    "\n",
    "l5.sort(axis=0) #arranges column values to be in ascending order\n",
    "print(\"Arranged column values in ascending order: \", l5)\n"
   ]
  },
  {
   "cell_type": "markdown",
   "id": "86b2b062",
   "metadata": {},
   "source": [
    " # <p style=\"text-align: center;\"> Stacking, Splitting, and Copying </p>"
   ]
  },
  {
   "cell_type": "code",
   "execution_count": 132,
   "id": "5c537be7",
   "metadata": {},
   "outputs": [
    {
     "name": "stdout",
     "output_type": "stream",
     "text": [
      "a1: \n",
      " [[3 8 8]\n",
      " [2 5 4]\n",
      " [1 4 2]]\n",
      "a2: \n",
      " [[7 3 5]\n",
      " [6 9 6]\n",
      " [6 5 4]]\n",
      "Vertical stack:  [[3 8 8]\n",
      " [2 5 4]\n",
      " [1 4 2]\n",
      " [7 3 5]\n",
      " [6 9 6]\n",
      " [6 5 4]]\n",
      "Horizontal stack:  [[3 8 8 7 3 5]\n",
      " [2 5 4 6 9 6]\n",
      " [1 4 2 6 5 4]]\n",
      "a3: \n",
      " [[8 4 0]\n",
      " [2 6 4]]\n",
      "a4: \n",
      " [[0 6 1]\n",
      " [1 8 1]]\n",
      "Column stack:  [[8 4 0 0 6 1]\n",
      " [2 6 4 1 8 1]]\n",
      "Row stack:  [[8 4 0]\n",
      " [2 6 4]\n",
      " [0 6 1]\n",
      " [1 8 1]]\n",
      "a5: \n",
      " [[6 7]\n",
      " [6 5]\n",
      " [7 4]]\n",
      "[array([[6],\n",
      "       [6],\n",
      "       [7]]), array([[7],\n",
      "       [5],\n",
      "       [4]])]\n",
      "copy1: \n",
      " [[999   4   6]\n",
      " [  9   1   3]\n",
      " [  7   8   0]]\n",
      "copy2: \n",
      " [[999   4   6]\n",
      " [  9   1   3]\n",
      " [  7   8   0]]\n",
      "copy3: \n",
      " [[999   4   6]\n",
      " [  9   1   3]\n",
      " [  7   8   0]]\n",
      "copy3: \n",
      " [999   9   7   4   1   8   6   3   0]\n",
      "copy1: \n",
      " [[999   4   6]\n",
      " [  9   1   3]\n",
      " [  7   8   0]]\n"
     ]
    }
   ],
   "source": [
    "a1 = np.random.randint(10, size=(3, 3)) #Recall how to make a random number array \n",
    "print(\"a1: \\n\", a1)\n",
    "a2 = np.random.randint(10, size=(3, 3)) #Recall how to make a random number array \n",
    "print(\"a2: \\n\", a2)\n",
    "\n",
    "np.vstack((a1, a2)) # Stacking a2 under a1 vertically\n",
    "np.hstack((a1, a2)) # Stacking a1 against a2 horizontally\n",
    "print(\"Vertical stack: \", np.vstack((a1, a2)))\n",
    "print(\"Horizontal stack: \", np.hstack((a1, a2)))\n",
    "\n",
    "print(\"a3: \\n\", a3)\n",
    "print(\"a4: \\n\", a4)\n",
    "np.column_stack((a3, a4)) #Combining two arrays column-wise\n",
    "np.row_stack((a3, a4)) #Combining two arrays row-wise\n",
    "print(\"Column stack: \", np.column_stack((a3, a4)))\n",
    "print(\"Row stack: \", np.row_stack((a3, a4)))\n",
    "\n",
    "\n",
    "a5 = np.random.randint(10, size=(3, 2)) #New random array\n",
    "print(\"a5: \\n\", a5)\n",
    "\n",
    "'''Splits must be result in an equal division'''\n",
    "print(np.hsplit(a5, 2)) # Splitting a5 into 5 new arrays\n",
    "np.hsplit(a5, (1, 3)) # Splitting after 1nd & 3rd column\n",
    "\n",
    "'''Copying arrays'''\n",
    "\n",
    "copy1 = np.random.randint(10, size=(3, 3)) \n",
    "copy2 = copy1 #Both name variables point at the same array\n",
    "\n",
    "copy1[0,0] = 999\n",
    "print(\"copy1: \\n\", copy1)\n",
    "print(\"copy2: \\n\", copy2)\n",
    "\n",
    "''' Creating a \"view\" of data where \n",
    "the changes you making indexing and replacing values\n",
    "don't affect original'''\n",
    "\n",
    "copy3 = copy1.view()\n",
    "print(\"copy3: \\n\", copy3)\n",
    "copy3 = copy3.flatten('F')\n",
    "print(\"copy3: \\n\", copy3)\n",
    "print(\"copy1: \\n\", copy1)\n",
    "copy4 = copy1.copy() #Copying and creating the new array\n",
    "\n",
    "'''Deleting rows and columns.\n",
    "I commented these out because you have to do one at a time or else go out of bounds,\n",
    "or keep redefining a1 over and over again. '''\n",
    "a1 = np.array([[1,2,3], [4,5,6], [7,8,9]])\n",
    "#a2= np.delete(a1,0 , 0) #deletes 1st row\n",
    "#a2= np.delete(a1, 0 , 1 ) #deletes 1st column\n",
    "#a2= np.delete(a1, 1 , 0 ) #deletes 2nd row\n",
    "#a2= np.delete(a1, 1 , 1 ) #deletes 2nd column\n",
    "#a2= np.delete(a1, 2, 0 ) #deletes 3rd row\n",
    "#a2= np.delete(a1, 2 , 1 ) #deletes 3rd column\n",
    "#print(a2)"
   ]
  },
  {
   "cell_type": "markdown",
   "id": "6ece080b",
   "metadata": {},
   "source": [
    " # <p style=\"text-align: center;\"> Numpy Arithmetic</p>"
   ]
  },
  {
   "cell_type": "code",
   "execution_count": 135,
   "id": "b8967746",
   "metadata": {},
   "outputs": [
    {
     "name": "stdout",
     "output_type": "stream",
     "text": [
      "Ceiling function:  [2. 3. 4. 5. 4. 9.]\n",
      "Floor function:  [1. 2. 3. 4. 3. 8.]\n",
      "a1 + a2:  [ 3  6  9 12]\n",
      "np.add(a1, a2):  [ 3  6  9 12]\n",
      "a1 - a2:  [-1 -2 -3 -4]\n",
      "np.subtract(a1, a2):  [-1 -2 -3 -4]\n",
      "a1 * a2:  [ 2  8 18 32]\n",
      "np.multiply(a1, a2):  [ 2  8 18 32]\n",
      "a1 / a2:  [0.5 0.5 0.5 0.5]\n",
      "np.divide(a1, a2):  [0.5 0.5 0.5 0.5]\n",
      "a5: \n",
      " [[2 4]\n",
      " [6 8]]\n",
      "a6: \n",
      " [[1 2]\n",
      " [3 4]]\n",
      "Divides elements in 1st array by 2nd array and returns remainder [[1 2]\n",
      " [3 4]]\n",
      "Return values in 1st array to powers defined in 2nd array [[    1    16]\n",
      " [  729 65536]]\n",
      "Square root [1.         1.41421356 1.73205081 2.        ]\n",
      "Cube root [1.         1.25992105 1.44224957 1.58740105]\n",
      "Absolute value of every element [1 2]\n",
      "Exponential of all elements in array [ 2.71828183  7.3890561  20.08553692 54.59815003]\n",
      "log base e:  [0.         0.69314718 1.09861229 1.38629436]\n",
      "log base 2:  [0.        1.        1.5849625 2.       ]\n",
      "log base 10:  [0.         0.30103    0.47712125 0.60205999]\n",
      "Greatest common divisor:  3\n",
      "Lowest common multiple:  180\n",
      "a3 =  [83 75 41  1]\n",
      "a4 =  [[10 29 52]\n",
      " [96 93 31]\n",
      " [ 7 48 51]]\n",
      "4 random floats:  [0.66262371 0.89567786 0.00110687 0.61143852]\n",
      "Random choice:  1\n",
      "Max value per column in a4:  [1 1 0]\n",
      "squared_entries:  [ 1  4  9 16]\n",
      "Sum all the values in array 417\n",
      "Summing the columns [113 170 134]\n",
      "Sum of each row  [[ 10  39  91]\n",
      " [ 96 189 220]\n",
      " [  7  55 106]]\n",
      "Min of each row [10 31  7]\n",
      "Max of each column  [96 93 52]\n"
     ]
    }
   ],
   "source": [
    "print(\"Ceiling function: \" , np.ceil([1.2, 2.5, 3.9, 4.4, 3.3, 8.1])) # Rounds up every entry\n",
    "print(\"Floor function: \" , np.floor([1.2, 2.5, 3.9, 4.4, 3.3, 8.1])) # Rounds down every entry\n",
    "\n",
    "#Defining two arrays to play around with\n",
    "a1 = np.array([1, 2, 3, 4])\n",
    "a2 = np.array([2, 4, 6, 8])\n",
    "np.add(a1, 999)# Add individual numbers to array\n",
    "\n",
    "a1 + a2# Addition\n",
    "a1 - a2# Subtraction\n",
    "a1 * a2# Multiplication\n",
    "a1 / a2# Division\n",
    "np.add(a1, a2) # Addition\n",
    "np.subtract(a1, a2)# Subtraction\n",
    "np.multiply(a1, a2)# Multiplication\n",
    "np.divide(a1, a2)# Division\n",
    "'''These do the same thing, observe:'''\n",
    "print(\"a1 + a2: \", a1 + a2)\n",
    "print(\"np.add(a1, a2): \" , np.add(a1, a2))\n",
    "print(\"a1 - a2: \", a1 - a2)\n",
    "print(\"np.subtract(a1, a2): \" , np.subtract(a1, a2))\n",
    "print(\"a1 * a2: \", a1 * a2)\n",
    "print(\"np.multiply(a1, a2): \" , np.multiply(a1, a2))\n",
    "print(\"a1 / a2: \", a1 / a2)\n",
    "print(\"np.divide(a1, a2): \" , np.divide(a1, a2))\n",
    "\n",
    "### More Math ###\n",
    "a5 = np.array([[2, 4], [6, 8]])\n",
    "a6 = np.array([[1, 2], [3, 4]])\n",
    "print(\"a5: \\n\", a5)\n",
    "print(\"a6: \\n\", a6)\n",
    "\n",
    "np.remainder(a6, a5)# Divides elements in 1st array by 2nd array and returns remainder\n",
    "np.power(a6, a5)# Return values in 1st array to powers defined in 2nd array\n",
    "np.sqrt(a1)# Square root\n",
    "np.cbrt(a1)# Cube root\n",
    "np.absolute([-1, -2])# Absolute value of every element\n",
    "np.exp(a1)# Exponential of all elements in array\n",
    "print(\"Divides elements in 1st array by 2nd array and returns remainder\", np.remainder(a6, a5))\n",
    "print(\"Return values in 1st array to powers defined in 2nd array\", np.power(a6, a5))\n",
    "print(\"Square root\", np.sqrt(a1))\n",
    "print(\"Cube root\", np.cbrt(a1))\n",
    "print(\"Absolute value of every element\", np.absolute([-1, -2]))\n",
    "print(\"Exponential of all elements in array\", np.exp(a1))\n",
    "\n",
    "''':::Log functions:::'''\n",
    "np.log(a1) #log base e\n",
    "np.log2(a1) #log base 2\n",
    "np.log10(a1) #log base 10\n",
    "np.gcd.reduce([9, 12, 15])# Greatest common divisor\n",
    "np.lcm.reduce([9, 12, 15])# Lowest common multiple\n",
    "print(\"log base e: \", np.log(a1))\n",
    "print(\"log base 2: \",np.log2(a1))\n",
    "print(\"log base 10: \",np.log10(a1))\n",
    "print(\"Greatest common divisor: \",np.gcd.reduce([9, 12, 15]))\n",
    "print(\"Lowest common multiple: \",np.lcm.reduce([9, 12, 15]))\n",
    "\n",
    "\n",
    "''':::Random values:::'''\n",
    "a3 = random.randint(100, size=(4))# Random 4 digit 1-D array between 0 to 100\n",
    "print(\"a3 = \", a3)\n",
    "a4 = random.randint(100, size=(3, 3))# Random 2 by 3 digit 2D array between 0 to 100\n",
    "print(\"a4 = \", a4)\n",
    "print(\"4 random floats: \", random.rand(4)) # Get 4 random floats\n",
    "print(\"Random choice: \", random.choice(a1)) # Get a random value from an array\n",
    "# Get index for max value per column\n",
    "index_of_max = a4.argmax(axis=0)\n",
    "\n",
    "''':::Index Arithmetic:::'''\n",
    "\n",
    "print(\"Max value per column in a4: \", index_of_max)\n",
    "\n",
    "max_nums = a4[index_of_max] # Get numbers corresponding to indexes\n",
    "a4[index_of_max, range(a4.shape[1])]\n",
    "\n",
    "squared_entries = np.arange(6)**2# Can receive 6 values and square them\n",
    "print(\"squared_entries: \", squared_entries[a1])\n",
    "\n",
    "a4.sum()# Sum all the values in array\n",
    "a4.sum(axis=0)# Summing the columns\n",
    "a4.cumsum(axis=1)# Sum of each row \n",
    "a4.min(axis=1)# Min of each row\n",
    "a4.max(axis=0)# Max of each column\n",
    "\n",
    "print(\"Sum all the values in array\", a4.sum())\n",
    "print(\"Summing the columns\", a4.sum(axis=0))\n",
    "print(\"Sum of each row \", a4.cumsum(axis=1))\n",
    "print(\"Min of each row\", a4.min(axis=1))\n",
    "print(\"Max of each column \", a4.max(axis=0))    "
   ]
  },
  {
   "cell_type": "markdown",
   "id": "a89594f4",
   "metadata": {},
   "source": [
    " # <p style=\"text-align: center;\">  Statistics and Reading Data</p>"
   ]
  },
  {
   "cell_type": "code",
   "execution_count": 150,
   "id": "34764070",
   "metadata": {},
   "outputs": [
    {
     "data": {
      "text/plain": [
       "array([[5.52800e-02, 2.40800e-01],\n",
       "       [8.15000e-01, 6.15200e-01],\n",
       "       [1.00000e+00, 1.00000e+00],\n",
       "       [1.07450e-01, 1.88080e+00],\n",
       "       [3.17830e+02, 1.18618e+01],\n",
       "       [9.51590e+01, 2.94567e+01],\n",
       "       [1.45360e+01, 8.70107e+01],\n",
       "       [1.71470e+01, 1.64790e+02],\n",
       "       [2.10000e-03, 2.47680e+02]])"
      ]
     },
     "execution_count": 150,
     "metadata": {},
     "output_type": "execute_result"
    }
   ],
   "source": [
    "''':::Need massvsyear.csv for this to run, found in the Github:::'''\n",
    "'''Left column is the mass of the 9 planets in our solar system in order of distance from the Sun.\n",
    "So Mercury, Venus, Earth, Mrs, Jupiter, Saturn, Uranus, Neptune and yes Pluto. \n",
    "Taken from my astrophysics textbook.\n",
    "\n",
    "Mass is in Earth-masses, so Earth is 1 Earth mass but Jupiter is 317.83 Earth masses large.\n",
    "Right column is time to complete a full revolution in Earth years. \n",
    "Earth is 1 year, Jupiter is 11.8 years''' \n",
    "\n",
    "'''Generating an array from text (literally, genfromtxt)'''\n",
    "planets = genfromtxt('massvsyear.csv', delimiter=',')# Reads data using Numpy and file i/o\n",
    "planets"
   ]
  },
  {
   "cell_type": "code",
   "execution_count": 189,
   "id": "6c1fc513",
   "metadata": {
    "scrolled": true
   },
   "outputs": [
    {
     "name": "stdout",
     "output_type": "stream",
     "text": [
      "Mass V.S. Year as a Numpy array: \n",
      " [[8.15000e-01 6.15200e-01]\n",
      " [1.00000e+00 1.00000e+00]\n",
      " [1.07450e-01 1.88080e+00]\n",
      " [3.17830e+02 1.18618e+01]\n",
      " [9.51590e+01 2.94567e+01]\n",
      " [1.45360e+01 8.70107e+01]\n",
      " [1.71470e+01 1.64790e+02]\n",
      " [2.10000e-03 2.47680e+02]]\n",
      "Mass in Earth Masses:  [8.1500e-01 1.0000e+00 1.0745e-01 3.1783e+02 9.5159e+01 1.4536e+01\n",
      " 1.7147e+01 2.1000e-03]\n",
      "Revolution duration in Earth Years:  [  0.6152   1.       1.8808  11.8618  29.4567  87.0107 164.79   247.68  ]\n"
     ]
    },
    {
     "data": {
      "text/plain": [
       "array([[ 1.        , -0.27495825],\n",
       "       [-0.27495825,  1.        ]])"
      ]
     },
     "execution_count": 189,
     "metadata": {},
     "output_type": "execute_result"
    }
   ],
   "source": [
    "'''Reading table of data (massvsyear) from its .csv file and converting it to a Numpy array\n",
    "using pd.read_csv('filename.csv').to_numpy()'''\n",
    "\n",
    "planets = pd.read_csv('massvsyear.csv').to_numpy()\n",
    "print(\"Mass V.S. Year as a Numpy array: \\n\", ics) \n",
    "print(\"Mass in Earth Masses: \", planets[:,0]) # Getting 1st column\n",
    "print(\"Revolution duration in Earth Years: \", planets[:,1]) # Getting the 2nd column\n",
    "np.percentile(planets, 50, axis=0)# Get the 50th percentile of the data\n",
    "\n",
    "'''Calculating the correlation coefficient'''\n",
    "np.corrcoef(planets[:,0], planets[:,1])\n",
    "\n",
    "\n",
    "\n"
   ]
  },
  {
   "cell_type": "markdown",
   "id": "60a21f2e",
   "metadata": {},
   "source": [
    " > ### Regression formula: \n",
    "$b_{1}=\\frac{\\sum_{i=1}^{n}\\left(\\left(x_{i}-\\bar{x}\\right)\\left(y_{i}-\\bar{y}\\right)\\right)}{\\sum_{i=1}^{n}\\left(x_{i}-\\bar{x}\\right)^{2}}$"
   ]
  },
  {
   "cell_type": "code",
   "execution_count": 190,
   "id": "1e8052fe",
   "metadata": {},
   "outputs": [
    {
     "name": "stdout",
     "output_type": "stream",
     "text": [
      "slope:  -0.23023872698839887\n",
      "y-intercept:  80.88987764367636\n",
      "regression_array:  [80.70223308 80.65963892 80.86513849  7.71310304 58.98059062 77.54312751\n",
      " 76.94197419 80.88939414]\n",
      "Average:  5.0\n",
      "Median:  5.0\n",
      "Mean (i.e. average):  5.0\n",
      "Standard Deviation:  3.0919249667480613\n",
      "Variance:  9.559999999999999\n"
     ]
    }
   ],
   "source": [
    "'''Calculating the regression line'''\n",
    "M_avg = np.mean(planets[:,0])\n",
    "T_avg = np.mean(planets[:,1])\n",
    "numerator = np.sum(((planets[:,0] - M_avg)*(planets[:,1] - T_avg))) #numerator of regression formula\n",
    "denominator = np.sum(np.square(planets[:,0] - M_avg)) #denominator of regression formula\n",
    "slope = numerator/denominator\n",
    "print(\"slope: \", slope)\n",
    "\n",
    "'''Calculating y-intercept'''\n",
    "y_i = T_avg - slope * M_avg\n",
    "print(\"y-intercept: \", y_i) \n",
    "regression_array = planets[:,0] * slope + y_i\n",
    "print(\"regression_array: \", regression_array)\n",
    "\n",
    "'''Basic statistical functions'''\n",
    "gen_stats_array = np.arange(1, 10) #defining the array\n",
    "np.mean(gen_stats_array)\n",
    "np.median(gen_stats_array)\n",
    "np.average(gen_stats_array)\n",
    "np.std([27,32,28,27,28,28,25,24,22,21]) # Standard Deviation of 10 random values I chose, ages of my friends\n",
    "np.var([27,32,28,27,28,28,25,24,22,21]) # Variance of the ages\n",
    "\n",
    "print(\"Average: \", np.mean(gen_stats_array))\n",
    "print(\"Median: \" , np.median(gen_stats_array))\n",
    "print(\"Mean (i.e. average): \", np.average(gen_stats_array))\n",
    "print(\"Standard Deviation: \", np.std([27,32,28,27,28,28,25,24,22,21]))\n",
    "print(\"Variance: \", np.var([27,32,28,27,28,28,25,24,22,21]))"
   ]
  },
  {
   "cell_type": "markdown",
   "id": "f46f9aa7",
   "metadata": {},
   "source": [
    " # <p style=\"text-align: center;\">  The Many Functions of Numpy</p>\n"
   ]
  },
  {
   "cell_type": "code",
   "execution_count": 191,
   "id": "cccae75c",
   "metadata": {},
   "outputs": [
    {
     "data": {
      "image/png": "[encoded data removed]",
      "text/plain": [
       "<Figure size 432x288 with 1 Axes>"
      ]
     },
     "metadata": {
      "needs_background": "light"
     },
     "output_type": "display_data"
    },
    {
     "name": "stdout",
     "output_type": "stream",
     "text": [
      "2π radians in degrees:  360.0\n",
      "111 degrees in radians:  1.9373154697137058\n",
      "The pythagorean triple 3-4-5 has a hypotenuse of:  5.0\n",
      "Arcsine(1) =  1.5707963267948966\n",
      "Arccosine(1) =  0.0\n",
      "Arctangent(0) = 0.0\n",
      "Arctangent2(x,y) = [ 0.78539816 -0.68103388]\n"
     ]
    }
   ],
   "source": [
    "pi_array = np.linspace(-np.pi, np.pi, 100) #Very useful for plotting anything trigonometric \n",
    "\n",
    "#Plot with x axis & y axis data \n",
    "plt.plot(pi_array, np.sin(pi_array), 'r') # plotting sine\n",
    "plt.plot(pi_array, np.cos(pi_array), 'b') # plotting cosine\n",
    "#plt.plot(pi_array, np.tan(pi_array), 'g') # plotting tangent\n",
    "plt.show() #Display the plots, I commented tan out so sine and cosine can be seen because tan dominates.\n",
    "\n",
    "np.rad2deg(2*np.pi)# radians to degrees\n",
    "np.deg2rad(111)# degrees to radians\n",
    "np.hypot(3,4)# hypotenuse(a,b)\n",
    "print(\"2π radians in degrees: \", np.rad2deg(2*np.pi))\n",
    "print(\"111 degrees in radians: \", np.deg2rad(111))\n",
    "print(\"The pythagorean triple 3-4-5 has a hypotenuse of: \", np.hypot(3,4))\n",
    "\n",
    "\n",
    "\n",
    "'''Inverse trig functions'''\n",
    "np.arcsin(1)\n",
    "np.arccos(1)\n",
    "np.arctan(0)\n",
    "print(\"Arcsine(1) = \", np.arcsin(1))\n",
    "print(\"Arccosine(1) = \", np.arccos(1))\n",
    "print(\"Arctangent(0) =\", np.arctan(0))\n",
    "\n",
    "#Note about arctan vs arctan2: \n",
    "#arctan is a 2-quadrant inverse function, arctan2 is a 4-quadrant inverse function.\n",
    "y=[1,-1]\n",
    "x=[1,1.234]\n",
    "print(\"Arctangent2(x,y) =\", np.arctan2(y,x))"
   ]
  },
  {
   "cell_type": "markdown",
   "id": "1cc4d69f",
   "metadata": {},
   "source": [
    "# <p style=\"text-align: center;\"> Matrices and Vectors</p>\n",
    "> Think about this in terms of set theory: A vector is a list of numbers and a matrix is a list of lists. In other words, a vector is a set and a matrix is a set of sets."
   ]
  },
  {
   "cell_type": "markdown",
   "id": "071a7f0a",
   "metadata": {},
   "source": [
    "## Lists and Arrays"
   ]
  },
  {
   "cell_type": "code",
   "execution_count": 86,
   "id": "77bf4765",
   "metadata": {},
   "outputs": [
    {
     "name": "stdout",
     "output_type": "stream",
     "text": [
      "v1= [1, 2, 3]\n",
      "a1= [[1, 2, 3], [4, 5, 6], [7, 8, 9]]\n",
      "v1= [1 2 3]\n",
      "a1= \n",
      " [[1 2 3]\n",
      " [4 5 6]\n",
      " [7 8 9]]\n",
      "v1= [1 2 3]\n",
      "a1= \n",
      " [[1 2 3]\n",
      " [4 5 6]\n",
      " [7 8 9]]\n",
      "a1 + v1 = \n",
      " [[ 2  4  6]\n",
      " [ 5  7  9]\n",
      " [ 8 10 12]]\n",
      "v1= [1 2 3]\n",
      "v2= [4 5 6]\n",
      "v1*v1= [1 4 9]\n",
      "v2*v2= [16 25 36]\n",
      "v1*v2= [ 4 10 18]\n",
      "v2*v1= [ 4 10 18]\n"
     ]
    },
    {
     "data": {
      "text/plain": [
       "array([[1., 1., 1.],\n",
       "       [1., 1., 1.],\n",
       "       [1., 1., 1.]])"
      ]
     },
     "execution_count": 86,
     "metadata": {},
     "output_type": "execute_result"
    }
   ],
   "source": [
    "import numpy as np\n",
    "v1 = [1,2,3]\n",
    "v2 = [4,5,6]\n",
    "\n",
    "a1 = [[1,2,3],[4,5,6], [7,8,9]]\n",
    "a2 = [[9,8,7],[6,5,4], [3,2,1]]\n",
    "\n",
    "print(\"v1=\",v1)\n",
    "print(\"a1=\",a1)\n",
    "\n",
    "##Redefining them as numpy arrays\n",
    "v1 =np.array([1,2,3])\n",
    "v2 =np.array([4,5,6])\n",
    "\n",
    "a1 = np.array([[1,2,3],[4,5,6], [7,8,9]])\n",
    "a2 = np.array([[9,8,7],[6,5,4], [3,2,1]])\n",
    "\n",
    "print(\"v1=\",v1)\n",
    "print(\"a1= \\n\",a1) \n",
    "##If you add a new line it doesn't output so clunky. \n",
    "\n",
    "v1 + v2 #Returns a vector\n",
    "a1 + a2 #Returns a matrix\n",
    "print(\"v1=\",v1)\n",
    "print(\"a1= \\n\",a1) \n",
    "print(\"a1 + v1 = \\n\", a1+v1) #This adds v1 to each row in a1 with a polymorphic mapping\n",
    "\n",
    "'''This is not the matrix multiplication you are used to, \n",
    "it is element by element otherwise known as the Hadamard product'''\n",
    "print(\"v1=\", v1)\n",
    "print(\"v2=\", v2)\n",
    "print(\"v1*v1=\", v1*v1)\n",
    "print(\"v2*v2=\", v2*v2)\n",
    "print(\"v1*v2=\", v1*v2)\n",
    "print(\"v2*v1=\", v2*v1) \n",
    "#If you look down the entries of each column you can see how it is being computed. \n",
    "#Ordinary matrix multiplication is not that simple. \n",
    "\n",
    "''' The Hadamard product of two 3x3 matrices is a breeze compared to standard matrix multiplication \n",
    "1*3 = 3, 2*5 = 10, 3*6 = 18...etc.\n",
    "Realistically, this is just another form of polymorphism. \n",
    " '''\n",
    "v3 = np.array([[1,2,3],[4,5,6], [7,8,9]])\n",
    "v4 = np.array([[3,5,6],[9,8,7], [1,5,9]])\n",
    "v3*v4\n",
    "\n",
    "'''It may be easier to see how the Hadamard product is computed by dividing matrices'''\n",
    "v3 = np.array([[1,2,3],[4,5,6], [7,8,9]])\n",
    "v3/v3 #1/1, 2/2, 3/3....9/9\n"
   ]
  },
  {
   "cell_type": "markdown",
   "id": "8ee03618",
   "metadata": {},
   "source": [
    "## Slicing out Rows and Columns from a Matrix\n",
    "> Rows are indexed at 0 but entries in rows and columns are indexed at 1 to preserve the usually nxm ordering."
   ]
  },
  {
   "cell_type": "code",
   "execution_count": null,
   "id": "e9c3f288",
   "metadata": {},
   "outputs": [],
   "source": [
    "v3 = np.array([[1,2,3],[4,5,6], [7,8,9]])\n",
    "row0 = v3[0]\n",
    "row1 = v3[1]\n",
    "row2 = v3[2]\n",
    "print(\"v3 = \\n\", v3)\n",
    "print(\"row0 = \", row0)\n",
    "print(\"row1 = \", row1)\n",
    "print(\"row2 = \", row2)"
   ]
  },
  {
   "cell_type": "markdown",
   "id": "9601941c",
   "metadata": {},
   "source": [
    "## Column slicing\n",
    "> Note how they appear to be returned as rows, just use a transpose if you ever need to flip a row to a column."
   ]
  },
  {
   "cell_type": "code",
   "execution_count": null,
   "id": "fed8a3ee",
   "metadata": {},
   "outputs": [],
   "source": [
    "v3 = np.array([[1,2,3],[4,5,6], [7,8,9]])\n",
    "column0 = v3[:,0] #This is a tuple specifying column 0\n",
    "column1 = v3[:,1] #This is a tuple specifying column 1\n",
    "column2 = v3[:,2] #This is a tuple specifying column 2\n",
    "print(\"v3 = \\n\", v3)\n",
    "print(\"column0 = \", column0)\n",
    "print(\"column1 = \", column1)\n",
    "print(\"column2 = \", column2)"
   ]
  },
  {
   "cell_type": "code",
   "execution_count": null,
   "id": "1a237575",
   "metadata": {},
   "outputs": [],
   "source": [
    "A = np.array([[1,2,3], [4,5,6],[7,8,9]])\n",
    "#since the python indexes at 0 instead of 1 unlike normal linear algebra \n",
    "#I'll show what a 3x3 looks like with the printing function\n",
    "print(\"A is \\n\", A, \"\\n\")\n",
    "print(\"A[0,0] is\", A[0,0])\n",
    "print(\"A[0,1] is\", A[0,1])\n",
    "print(\"A[0,2] is\", A[0,2])\n",
    "print(\"A[1,0] is\", A[1,0])\n",
    "print(\"A[1,1] is\", A[1,1])\n",
    "print(\"A[1,2] is\", A[1,2])\n",
    "print(\"A[2,0] is\", A[2,0])\n",
    "print(\"A[2,1] is\", A[2,1])\n",
    "print(\"A[2,2] is\", A[2,2]) \n",
    "#Again, it bares repeating that (2,2) would normally be 3,3 because all we did was shift the index by 1\n"
   ]
  },
  {
   "cell_type": "markdown",
   "id": "67eed09a",
   "metadata": {},
   "source": [
    "## The Dot Product and Cross Product"
   ]
  },
  {
   "cell_type": "code",
   "execution_count": 192,
   "id": "826ffd6f",
   "metadata": {},
   "outputs": [
    {
     "name": "stdout",
     "output_type": "stream",
     "text": [
      "\n",
      " The inner product of v1*v2 is: 32 \n",
      " The cross product of v1 x v2 is: [-3  6 -3] \n",
      " The cross product of v2 x v1 is: [ 3 -6  3]\n"
     ]
    }
   ],
   "source": [
    "v1 =np.array([1,2,3])\n",
    "v2 =np.array([4,5,6])\n",
    "innerp=np.dot(v1, v2)\n",
    "crossp1=np.cross(v1,v2)\n",
    "crossp2=np.cross(v2,v1)\n",
    "print(\"\\n The inner product of v1*v2 is:\",innerp, #Notice that this is indeed a proper inner product: 1*4 + 2*5+3*6 == 4+10+18=32\n",
    "      \"\\n The cross product of v1 x v2 is:\", crossp1, #Cross products indeed return a vector\n",
    "      \"\\n The cross product of v2 x v1 is:\", crossp2)\n"
   ]
  },
  {
   "cell_type": "code",
   "execution_count": 22,
   "id": "1f173748",
   "metadata": {},
   "outputs": [
    {
     "name": "stdout",
     "output_type": "stream",
     "text": [
      "a tiled 3 times: [1 2 3 4 1 2 3 4 1 2 3 4]\n",
      "c tiled 3 times: \n",
      " [[1 2 1 2 1 2]\n",
      " [3 4 3 4 3 4]]\n"
     ]
    }
   ],
   "source": [
    "''' If you have an array you can use the function numpy.tile() \n",
    "to obtain a new array by repeating it a given number of times'''\n",
    "\n",
    "from numpy import tile \n",
    "a = [1,2,3,4]\n",
    "b = tile(a,3) # This will tile \"a\" 3 times\n",
    "print(\"a tiled 3 times:\", b)\n",
    "\n",
    "c = [[1,2],[3,4]]\n",
    "d = tile(c,3) # Notice the resultant pattern is [c[0]c[0]c[0]] [c[1]c[1]c[1]]\n",
    "print(\"c tiled 3 times: \\n\", d)\n",
    "\n",
    "# Note that a and c are lists but b and d are arrays"
   ]
  },
  {
   "cell_type": "markdown",
   "id": "3eb3a2d1",
   "metadata": {},
   "source": [
    "# Linear algebra functions"
   ]
  },
  {
   "cell_type": "code",
   "execution_count": 58,
   "id": "46586437",
   "metadata": {},
   "outputs": [
    {
     "name": "stdout",
     "output_type": "stream",
     "text": [
      "a = \n",
      " [[1 2 3]\n",
      " [4 5 6]\n",
      " [7 8 9]]\n",
      "a.transpose = \n",
      " [[1 4 7]\n",
      " [2 5 8]\n",
      " [3 6 9]]\n",
      "trace(a) =   15\n",
      "det(a)=   -9.51619735392994e-16\n"
     ]
    }
   ],
   "source": [
    "\n",
    "a = np.array([[1,2,3], [4,5,6], [7,8,9]])\n",
    "b = a.transpose() #Or b = a.T for short\n",
    "b2 = np.trace(a)\n",
    "b3 = np.linalg.det(a)\n",
    "print(\"a = \\n\", a)\n",
    "print(\"a.transpose = \\n\", b)\n",
    "print(\"trace(a) =  \", b2)\n",
    "print(\"det(a)=  \", b3) #It's zero, but numpy can't quite compute it for some reason. "
   ]
  },
  {
   "cell_type": "markdown",
   "id": "91ca33eb",
   "metadata": {},
   "source": [
    "List of more linear algebra functions here:\n",
    "https://numpy.org/doc/stable/reference/routines.linalg.html\n",
    "<!-- Tables -->\n",
    "| Operation     | Code       |\n",
    "| -------- | --------------                         |\n",
    "| Dot product      | np.vdot(a,b)             | \n",
    "| Inner product       | np.inner(a,b)               |\n",
    "| Outer product       | np.outer(a,b)                         |\n",
    "|Matrix multiplication      |np.matmul(a,b)        |\n",
    "| Raise to $a^n$   | np.linalg.matrix_power(a,n)   |\n",
    "| Eigenvalues       | np.linalg.eig(a)|\n",
    "| Norm      | np.linalg.norm(a)|\n",
    "| Determinant   | np.linalg.det(a)        |\n",
    "| Inverse     | np.linalg.inv(b)                |"
   ]
  },
  {
   "cell_type": "code",
   "execution_count": 167,
   "id": "bb26c88a",
   "metadata": {},
   "outputs": [
    {
     "name": "stdout",
     "output_type": "stream",
     "text": [
      "np.greater(a, b):  [False  True]\n",
      "np.greater_equal(a, b):  [False  True]\n",
      "np.less(a, b):  [ True False]\n",
      "np.less_equal(a, b):  [ True False]\n",
      "np.not_equal(a, b):  [ True  True]\n",
      "np.equal(a, b):  [False False]\n"
     ]
    }
   ],
   "source": [
    "a = np.array([[4,6,8], [9,10,12], [14,15,16]])\n",
    "b = np.array([[1,2,3], [5,7,11], [13,17,19]])\n",
    "np.vdot(a,b) #vector dot product\n",
    "np.inner(a,b) #inner product\n",
    "np.outer(b,a) #outer product\n",
    "np.matmul(a,b) #normal matrix multiplication\n",
    "np.matmul(b,a) #recall it is not commutative\n",
    "np.linalg.matrix_power(a,3) #raising a to the power of 3, so a*a*a\n",
    "np.linalg.eig(a) #Gets eigenvalues and right eigenvectors \n",
    "np.linalg.eigvals(a) #Gets eigenvalues\n",
    "np.linalg.eigvals(b) #Gets eigenvalues\n",
    "np.linalg.norm(a) #Gets the norm\n",
    "np.linalg.det(a) #Gets the determinant \n",
    "np.linalg.inv(b) #Gets the inverse \n",
    "\n",
    "a = np.array([2, 3])\n",
    "b = np.array([3, 2])\n",
    "# Returns T/F based on entry-by-entry comparison of magnitude for a and b\n",
    "np.greater(a, b)\n",
    "np.greater_equal(a, b)\n",
    "np.less(a, b)\n",
    "np.less_equal(a, b)\n",
    "np.not_equal(a, b)\n",
    "np.equal(a, b)\n",
    "print(\"np.greater(a, b): \", np.greater(a, b))\n",
    "print(\"np.greater_equal(a, b): \", np.greater_equal(a, b))\n",
    "print(\"np.less(a, b): \", np.less(a, b))\n",
    "print(\"np.less_equal(a, b): \", np.less_equal(a, b))\n",
    "print(\"np.not_equal(a, b): \", np.not_equal(a, b))\n",
    "print(\"np.equal(a, b): \", np.equal(a, b))"
   ]
  },
  {
   "cell_type": "markdown",
   "id": "78b77693",
   "metadata": {},
   "source": [
    "# Saving and loading"
   ]
  },
  {
   "cell_type": "code",
   "execution_count": 169,
   "id": "85cfc57b",
   "metadata": {},
   "outputs": [
    {
     "data": {
      "text/plain": [
       "array([[1., 2.],\n",
       "       [3., 4.]])"
      ]
     },
     "execution_count": 169,
     "metadata": {},
     "output_type": "execute_result"
    }
   ],
   "source": [
    "a = np.array([[1, 2], [3, 4]])\n",
    "# Save \n",
    "np.save('randarray', a)\n",
    "# Load  \n",
    "b = np.load('randarray.npy')\n",
    "b\n",
    "\n",
    "# Savetxt as a .csv file\n",
    "np.savetxt('randcsv.csv', a)\n",
    "# Loading said .csv file\n",
    "c = np.loadtxt('randcsv.csv')\n",
    "c"
   ]
  },
  {
   "cell_type": "markdown",
   "id": "412cd503",
   "metadata": {},
   "source": [
    "# <p style=\"text-align: center;\"> Plotting</p>\n",
    ">Almost all of the plotting I have is in the plotly, matplotlib, and seaborn notebooks but I borrowed these from my work in computational physics"
   ]
  },
  {
   "cell_type": "code",
   "execution_count": 173,
   "id": "d98b5dee",
   "metadata": {},
   "outputs": [
    {
     "data": {
      "text/plain": [
       "<matplotlib.collections.PathCollection at 0x2d58a823700>"
      ]
     },
     "execution_count": 173,
     "metadata": {},
     "output_type": "execute_result"
    },
    {
     "data": {
      "image/png": "[encoded data removed]",
      "text/plain": [
       "<Figure size 432x288 with 1 Axes>"
      ]
     },
     "metadata": {
      "needs_background": "light"
     },
     "output_type": "display_data"
    }
   ],
   "source": [
    "x1 = np.linspace(0,4,101)\n",
    "y1 = 1 + 2*np.cos(3*x1)\n",
    "plt.xlim([0,8])\n",
    "plt.plot(x1,y1)\n",
    "\n",
    "x2 = np.linspace(4,8,101) #This merges with the first plot because it starts where the previous one ends\n",
    "y2 = 1 + 2*np.cos(3*x2)\n",
    "plt.scatter(x2,y2)"
   ]
  },
  {
   "cell_type": "code",
   "execution_count": 174,
   "id": "a84d44d4",
   "metadata": {},
   "outputs": [
    {
     "data": {
      "text/plain": [
       "[array([[0., 1., 2., 3., 4., 5.],\n",
       "        [0., 1., 2., 3., 4., 5.],\n",
       "        [0., 1., 2., 3., 4., 5.],\n",
       "        [0., 1., 2., 3., 4., 5.],\n",
       "        [0., 1., 2., 3., 4., 5.],\n",
       "        [0., 1., 2., 3., 4., 5.]]),\n",
       " array([[ 5.,  5.,  5.,  5.,  5.,  5.],\n",
       "        [ 6.,  6.,  6.,  6.,  6.,  6.],\n",
       "        [ 7.,  7.,  7.,  7.,  7.,  7.],\n",
       "        [ 8.,  8.,  8.,  8.,  8.,  8.],\n",
       "        [ 9.,  9.,  9.,  9.,  9.,  9.],\n",
       "        [10., 10., 10., 10., 10., 10.]])]"
      ]
     },
     "execution_count": 174,
     "metadata": {},
     "output_type": "execute_result"
    }
   ],
   "source": [
    "np.meshgrid(np.linspace(0,5,6), \n",
    "            np.linspace(5,10,6)) #Making a meshgrid from two linspaces"
   ]
  },
  {
   "cell_type": "code",
   "execution_count": 184,
   "id": "420df7dc",
   "metadata": {},
   "outputs": [
    {
     "data": {
      "text/plain": [
       "<a list of 15 text.Text objects>"
      ]
     },
     "execution_count": 184,
     "metadata": {},
     "output_type": "execute_result"
    },
    {
     "data": {
      "image/png": "[encoded data removed]",
      "text/plain": [
       "<Figure size 432x288 with 1 Axes>"
      ]
     },
     "metadata": {
      "needs_background": "light"
     },
     "output_type": "display_data"
    }
   ],
   "source": [
    "x2, y2, = np.meshgrid(np.linspace(-10,10,201), np.linspace(-10,10,201)) #using the meshgrid as the domain\n",
    "z2 = x2 + y2**2\n",
    "contourplot= plt.contour(x2,y2,z2)\n",
    "plt.clabel(contourplot, inline = 1, fontsize = 10)"
   ]
  },
  {
   "cell_type": "code",
   "execution_count": 185,
   "id": "01c7a649",
   "metadata": {},
   "outputs": [
    {
     "data": {
      "text/plain": [
       "<matplotlib.contour.QuadContourSet at 0x2d58c0ff850>"
      ]
     },
     "execution_count": 185,
     "metadata": {},
     "output_type": "execute_result"
    },
    {
     "data": {
      "image/png": "[encoded data removed]",
      "text/plain": [
       "<Figure size 432x288 with 1 Axes>"
      ]
     },
     "metadata": {
      "needs_background": "light"
     },
     "output_type": "display_data"
    }
   ],
   "source": [
    "x3, y3, = np.meshgrid(np.linspace(-10,10,201), np.linspace(-10,10,201)) \n",
    "z3 = np.cos(x3+y3) + 0.05*(x3-y3)\n",
    "\n",
    "plt.contourf(x3,y3,z3) #contourf fills in the space between the lines\n",
    "#this one looks better filled in compared to the one above which looks better with space"
   ]
  },
  {
   "cell_type": "code",
   "execution_count": 186,
   "id": "aabdf2af",
   "metadata": {},
   "outputs": [
    {
     "data": {
      "text/plain": [
       "<matplotlib.contour.QuadContourSet at 0x2d58abb8610>"
      ]
     },
     "execution_count": 186,
     "metadata": {},
     "output_type": "execute_result"
    },
    {
     "data": {
      "image/png": "[encoded data removed]",
      "text/plain": [
       "<Figure size 432x288 with 1 Axes>"
      ]
     },
     "metadata": {
      "needs_background": "light"
     },
     "output_type": "display_data"
    }
   ],
   "source": [
    "plotproj = plt.axes(projection='3d')\n",
    "plotproj.view_init(30,200)\n",
    "plotproj.contour3D(x3,y3,z3, 50) #basic 3-D plot of sinusoidal functions "
   ]
  },
  {
   "cell_type": "code",
   "execution_count": 187,
   "id": "0e8bcd7e",
   "metadata": {},
   "outputs": [
    {
     "data": {
      "text/plain": [
       "<mpl_toolkits.mplot3d.art3d.Path3DCollection at 0x2d58defd550>"
      ]
     },
     "execution_count": 187,
     "metadata": {},
     "output_type": "execute_result"
    },
    {
     "data": {
      "image/png": "[encoded data removed]",
      "text/plain": [
       "<Figure size 432x288 with 1 Axes>"
      ]
     },
     "metadata": {
      "needs_background": "light"
     },
     "output_type": "display_data"
    }
   ],
   "source": [
    "plt3D = plt.axes(projection='3d')\n",
    "z1 = np.linspace(0,30,301)\n",
    "x1 = np.sin(z1) \n",
    "y1 = 2*np.cos(z1)\n",
    "plt.xlim([-2,2])\n",
    "plt.ylim([-2,2])\n",
    "plt3D.scatter3D(x1, y1, z1) #You basically make a coil by tracing a circle's arclength in 3d"
   ]
  }
 ],
 "metadata": {
  "kernelspec": {
   "display_name": "Python 3 (ipykernel)",
   "language": "python",
   "name": "python3"
  },
  "language_info": {
   "codemirror_mode": {
    "name": "ipython",
    "version": 3
   },
   "file_extension": ".py",
   "mimetype": "text/x-python",
   "name": "python",
   "nbconvert_exporter": "python",
   "pygments_lexer": "ipython3",
   "version": "3.9.7"
  }
 },
 "nbformat": 4,
 "nbformat_minor": 5
}
